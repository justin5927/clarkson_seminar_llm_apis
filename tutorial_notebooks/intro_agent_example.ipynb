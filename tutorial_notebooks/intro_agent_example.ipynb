{
 "cells": [
  {
   "attachments": {},
   "cell_type": "markdown",
   "metadata": {},
   "source": [
    "Intro agent example\n",
    "\n",
    "Taken from langchain example - https://python.langchain.com/docs/modules/agents/agent_types/openai_functions_agent\n",
    "\n",
    "with some edits"
   ]
  },
  {
   "cell_type": "code",
   "execution_count": 22,
   "metadata": {},
   "outputs": [],
   "source": [
    "from langchain.agents import initialize_agent, AgentType, Tool, load_tools\n",
    "from langchain.chains import LLMMathChain\n",
    "from langchain.chat_models import ChatOpenAI\n",
    "from langchain.llms import OpenAI\n",
    "from langchain.utilities import SerpAPIWrapper"
   ]
  },
  {
   "cell_type": "code",
   "execution_count": 23,
   "metadata": {},
   "outputs": [],
   "source": [
    "llm = ChatOpenAI(temperature=0, model=\"gpt-3.5-turbo-0613\")\n",
    "search = SerpAPIWrapper()\n",
    "llm_math_chain = LLMMathChain.from_llm(llm=llm, verbose=True)\n",
    "tools = [\n",
    "    Tool(\n",
    "        name=\"Search\",\n",
    "        func=search.run,\n",
    "        description=\"useful for when you need to answer questions about current events. You should ask targeted questions\",\n",
    "    ),\n",
    "    Tool(\n",
    "        name=\"Calculator\",\n",
    "        func=llm_math_chain.run,\n",
    "        description=\"useful for when you need to answer questions about math\",\n",
    "    )\n",
    "]"
   ]
  },
  {
   "cell_type": "code",
   "execution_count": 24,
   "metadata": {},
   "outputs": [],
   "source": [
    "from langchain.prompts import ChatPromptTemplate, MessagesPlaceholder\n",
    "\n",
    "prompt = ChatPromptTemplate.from_messages(\n",
    "    [\n",
    "        (\"system\", \"You are a helpful assistant\"),\n",
    "        (\"user\", \"{input}\"),\n",
    "        MessagesPlaceholder(variable_name=\"agent_scratchpad\"),\n",
    "    ]\n",
    ")"
   ]
  },
  {
   "cell_type": "code",
   "execution_count": 25,
   "metadata": {},
   "outputs": [],
   "source": [
    "agent = initialize_agent(tools, ChatOpenAI(model=\"gpt-3.5-turbo\"), agent=AgentType.ZERO_SHOT_REACT_DESCRIPTION, verbose=True)"
   ]
  },
  {
   "cell_type": "code",
   "execution_count": 28,
   "metadata": {},
   "outputs": [
    {
     "name": "stdout",
     "output_type": "stream",
     "text": [
      "\n",
      "\n",
      "\u001b[1m> Entering new AgentExecutor chain...\u001b[0m\n",
      "\u001b[32;1m\u001b[1;3mI need to find out who Leo DiCaprio's girlfriend is and then calculate her age times 2.\n",
      "Action: Search\n",
      "Action Input: \"Leo DiCaprio girlfriend\"\u001b[0m\n",
      "Observation: \u001b[36;1m\u001b[1;3m[{'title': \"Leonardo DiCaprio's girlfriend Vittoria Ceretti grabs his butt in NSFW moment at Halloween party\", 'link': 'https://pagesix.com/2023/10/29/entertainment/leonardo-dicaprios-girlfriend-vittoria-ceretti-grabs-his-butt-in-nsfw-moment-at-halloween-party/', 'source': 'Page Six', 'date': '1 day ago', 'thumbnail': 'https://serpapi.com/searches/65408175b7b1cc6297046589/images/42b85d3aa236916e60058b19b20af25c454517950019f8bc.jpeg'}, {'title': 'Leonardo DiCaprio’s Latest Pictures With Girlfriend Vittoria Ceretti Has Fans Raising Eyebrows', 'link': 'https://www.sheknows.com/entertainment/articles/2878853/leonardo-dicaprio-vittoria-ceretti-pda-pictures/', 'source': 'SheKnows', 'date': '9 hours ago', 'thumbnail': 'https://serpapi.com/searches/65408175b7b1cc6297046589/images/42b85d3aa236916ef81af4f996a02a9203247fce1169b1a1.jpeg'}, {'title': \"Leonardo Dicaprio's 25 Year Old Girlfriend Got Caught Fingering His Booty Hole Outside A Halloween Party In West ...\", 'link': 'https://www.barstoolsports.com/blog/3491386/leonardo-dicaprios-25-year-old-girlfriend-got-caught-fingering-his-booty-hole-outside-a-halloween-party-in-west-hollywood', 'source': 'Barstool Sports', 'date': '11 hours ago', 'thumbnail': 'https://serpapi.com/searches/65408175b7b1cc6297046589/images/42b85d3aa236916e96751bcaec4250ed9f791562eae162d3.jpeg'}, {'title': \"Leonardo DiCaprio's girlfriend Vittoria Ceretti gets handsy in NSFW moment\", 'link': 'https://www.marca.com/en/lifestyle/celebrities/2023/10/30/653f468446163fabbf8b458b.html', 'source': 'Marca.com', 'date': '22 hours ago', 'thumbnail': 'https://serpapi.com/searches/65408175b7b1cc6297046589/images/42b85d3aa236916e30c043b3e56b14086623c076cab734e6.jpeg'}, {'title': 'Leonardo DiCaprio and girlfriend Vittoria Ceretti indulge in PDA during party', 'link': 'https://www.wionews.com/entertainment/hollywood/news-leonardo-dicaprio-and-girlfriend-vittoria-ceretti-indulge-in-pda-during-party-653169', 'source': 'WION', 'date': '12 hours ago', 'thumbnail': 'https://serpapi.com/searches/65408175b7b1cc6297046589/images/42b85d3aa236916ef014b386f134fee4313d929f150c58ca.jpeg'}, {'title': 'Leonardo DiCaprio Gets Butt Felt Up By Girlfriend Vittoria Ceretti', 'link': 'https://www.tmz.com/2023/10/29/leonardo-dicaprio-butt-felt-up-girlfriend-vittoria-ceretti/', 'source': 'TMZ', 'date': '1 day ago', 'thumbnail': 'https://serpapi.com/searches/65408175b7b1cc6297046589/images/42b85d3aa236916e89221933b9920e19a029abd9abdd5c85.jpeg'}, {'title': \"Leonardo DiCaprio, 48, roasted by fans pointing out his girlfriend Vittoria Ceretti, 25, wasn't born when Tita\", 'link': 'https://www.dailymail.co.uk/tvshowbiz/article-12689115/Leonardo-DiCaprio-girlfriend-vittoria-Ceretti-25-wasnt-born-Titanic-released-1997.html', 'source': 'Daily Mail', 'date': '11 hours ago', 'thumbnail': 'https://serpapi.com/searches/65408175b7b1cc6297046589/images/42b85d3aa236916e01c9f5417266e70ca2b3125f53afb61d.jpeg'}]\u001b[0m\n",
      "Thought:\u001b[32;1m\u001b[1;3mI have found multiple articles about Leonardo DiCaprio's girlfriend Vittoria Ceretti. I need to find her current age and calculate it times 2.\n",
      "Action: Search\n",
      "Action Input: \"Vittoria Ceretti age\"\u001b[0m\n",
      "Observation: \u001b[36;1m\u001b[1;3m25 years\u001b[0m\n",
      "Thought:\u001b[32;1m\u001b[1;3mI have found Vittoria Ceretti's age. Now I need to calculate it times 2.\n",
      "Action: Calculator\n",
      "Action Input: 25 * 2\u001b[0m\n",
      "\n",
      "\u001b[1m> Entering new LLMMathChain chain...\u001b[0m\n",
      "25 * 2\u001b[32;1m\u001b[1;3m```text\n",
      "25 * 2\n",
      "```\n",
      "...numexpr.evaluate(\"25 * 2\")...\n",
      "\u001b[0m\n",
      "Answer: \u001b[33;1m\u001b[1;3m50\u001b[0m\n",
      "\u001b[1m> Finished chain.\u001b[0m\n",
      "\n",
      "Observation: \u001b[33;1m\u001b[1;3mAnswer: 50\u001b[0m\n",
      "Thought:\u001b[32;1m\u001b[1;3mI now know the final answer\n",
      "Final Answer: Vittoria Ceretti's current age times 2 is 50.\u001b[0m\n",
      "\n",
      "\u001b[1m> Finished chain.\u001b[0m\n"
     ]
    },
    {
     "data": {
      "text/plain": [
       "{'input': \"Who is Leo DiCaprio's girlfriend? What is her current age times 2?\",\n",
       " 'output': \"Vittoria Ceretti's current age times 2 is 50.\"}"
      ]
     },
     "execution_count": 28,
     "metadata": {},
     "output_type": "execute_result"
    }
   ],
   "source": [
    "agent.invoke(\n",
    "    {\n",
    "        \"input\": \"Who is Leo DiCaprio's girlfriend? What is her current age times 2?\"\n",
    "    }\n",
    ")"
   ]
  }
 ],
 "metadata": {
  "language_info": {
   "name": "python"
  },
  "orig_nbformat": 4
 },
 "nbformat": 4,
 "nbformat_minor": 2
}
