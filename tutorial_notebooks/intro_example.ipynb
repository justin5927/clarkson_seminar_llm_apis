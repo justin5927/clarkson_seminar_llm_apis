{
 "cells": [
  {
   "attachments": {},
   "cell_type": "markdown",
   "metadata": {},
   "source": [
    "Going through some introductions into langchain"
   ]
  },
  {
   "attachments": {},
   "cell_type": "markdown",
   "metadata": {},
   "source": [
    "Quick intro into usage"
   ]
  },
  {
   "cell_type": "code",
   "execution_count": 5,
   "metadata": {},
   "outputs": [],
   "source": [
    "import os\n",
    "# Check to make sure openai api key is there\n",
    "# I place the OPENAI_API_KEY in the .env file in top level of notebook\n",
    "# os.getenv(\"OPENAI_API_KEY\")\n",
    "\n",
    "# If not set you can manually set it here \n",
    "# from langchain.llms import OpenAI\n",
    "# llm = OpenAI(openai_api_key=\"...\")"
   ]
  },
  {
   "attachments": {},
   "cell_type": "markdown",
   "metadata": {},
   "source": [
    "Easy call just like chatgpt"
   ]
  },
  {
   "cell_type": "code",
   "execution_count": 6,
   "metadata": {},
   "outputs": [],
   "source": [
    "from langchain.chat_models import ChatOpenAI\n",
    "\n",
    "chat_model = ChatOpenAI(model=\"gpt-3.5-turbo\")"
   ]
  },
  {
   "cell_type": "code",
   "execution_count": 7,
   "metadata": {},
   "outputs": [
    {
     "data": {
      "text/plain": [
       "'As of September 2021, Katy Perry is 36 years old. She was born on October 25, 1984.'"
      ]
     },
     "execution_count": 7,
     "metadata": {},
     "output_type": "execute_result"
    }
   ],
   "source": [
    "chat_model.predict(\"what is katy perry's age\")"
   ]
  },
  {
   "attachments": {},
   "cell_type": "markdown",
   "metadata": {},
   "source": [
    "shows limitations of current event knowledge"
   ]
  },
  {
   "attachments": {},
   "cell_type": "markdown",
   "metadata": {},
   "source": [
    "Lets structure this call to show the power of using the api versus chatgpt"
   ]
  },
  {
   "cell_type": "code",
   "execution_count": 8,
   "metadata": {},
   "outputs": [],
   "source": [
    "from langchain.prompts import ChatPromptTemplate, SystemMessagePromptTemplate, HumanMessagePromptTemplate\n",
    "from langchain.chains import LLMChain\n",
    "\n",
    "def get_celebrity_age(celebrity: str) -> str:\n",
    "    \"\"\"Determines celebrity age\"\"\"\n",
    "    chat_prompt = ChatPromptTemplate.from_messages(\n",
    "        messages=[\n",
    "            SystemMessagePromptTemplate.from_template(\n",
    "                \"Your input is a celebrity name.\"\n",
    "                \"Output the age of the celebrity.\"\n",
    "            ),\n",
    "            HumanMessagePromptTemplate.from_template(\"{input}\"),\n",
    "        ]\n",
    "    )\n",
    "    chain = LLMChain(llm=ChatOpenAI(model=\"gpt-3.5-turbo\"), prompt=chat_prompt, verbose=False)\n",
    "    return chain.run(celebrity)"
   ]
  },
  {
   "cell_type": "code",
   "execution_count": 9,
   "metadata": {},
   "outputs": [
    {
     "data": {
      "text/plain": [
       "'Katy Perry is currently 36 years old.'"
      ]
     },
     "execution_count": 9,
     "metadata": {},
     "output_type": "execute_result"
    }
   ],
   "source": [
    "get_celebrity_age(\"Katy Perry\")"
   ]
  },
  {
   "attachments": {},
   "cell_type": "markdown",
   "metadata": {},
   "source": [
    "Lets fix this for current event "
   ]
  },
  {
   "attachments": {},
   "cell_type": "markdown",
   "metadata": {},
   "source": [
    "We will be using serpapi to serf the web to get current events\n",
    "\n",
    "please make a free acct on serpapi.com and add SERPAPI_API_KEY to .env file"
   ]
  },
  {
   "cell_type": "code",
   "execution_count": 11,
   "metadata": {},
   "outputs": [
    {
     "data": {
      "text/plain": [
       "'39 years'"
      ]
     },
     "execution_count": 11,
     "metadata": {},
     "output_type": "execute_result"
    }
   ],
   "source": [
    "from langchain.utilities import SerpAPIWrapper\n",
    "\n",
    "search = SerpAPIWrapper()\n",
    "\n",
    "search.run(\"How old is Katy perry?\")"
   ]
  },
  {
   "cell_type": "markdown",
   "metadata": {},
   "source": [
    "IT IS DIFFERENT"
   ]
  },
  {
   "attachments": {},
   "cell_type": "markdown",
   "metadata": {},
   "source": [
    "Lets chain serpapi with langchain"
   ]
  },
  {
   "cell_type": "code",
   "execution_count": 12,
   "metadata": {},
   "outputs": [
    {
     "name": "stdout",
     "output_type": "stream",
     "text": [
      "\n",
      "\n",
      "\u001b[1m> Entering new AgentExecutor chain...\u001b[0m\n",
      "\u001b[32;1m\u001b[1;3mI should search for Katy Perry's age.\n",
      "Action: Search\n",
      "Action Input: \"Katy Perry age\"\u001b[0m\n",
      "Observation: \u001b[36;1m\u001b[1;3m39 years\u001b[0m\n",
      "Thought:\u001b[32;1m\u001b[1;3mI now know the final answer\n",
      "Final Answer: Katy Perry is 39 years old.\u001b[0m\n",
      "\n",
      "\u001b[1m> Finished chain.\u001b[0m\n"
     ]
    }
   ],
   "source": [
    "from langchain.agents import load_tools, initialize_agent, AgentType\n",
    "\n",
    "tools = load_tools([\"serpapi\"], llm=ChatOpenAI(model=\"gpt-3.5-turbo\"))\n",
    "agent = initialize_agent(tools, ChatOpenAI(model=\"gpt-3.5-turbo\"), agent=AgentType.ZERO_SHOT_REACT_DESCRIPTION, verbose=True)\n",
    "\n",
    "first_response = agent.run(\"How old is Katy perry?\")"
   ]
  },
  {
   "attachments": {},
   "cell_type": "markdown",
   "metadata": {},
   "source": [
    "Prompt tune to get structured data"
   ]
  },
  {
   "cell_type": "code",
   "execution_count": 13,
   "metadata": {},
   "outputs": [
    {
     "name": "stdout",
     "output_type": "stream",
     "text": [
      "\n",
      "\n",
      "\u001b[1m> Entering new AgentExecutor chain...\u001b[0m\n",
      "\u001b[32;1m\u001b[1;3mI should search for Katy Perry's age and find a way to output it as a JSON formatted dict.\n",
      "Action: Search\n",
      "Action Input: \"Katy Perry age\"\u001b[0m\n",
      "Observation: \u001b[36;1m\u001b[1;3m39 years\u001b[0m\n",
      "Thought:\u001b[32;1m\u001b[1;3mI can now create a JSON formatted dict with the name of the celebrity (Katy Perry) and her age (39).\n",
      "Final Answer: {\"name\": \"Katy Perry\", \"age\": 39}\u001b[0m\n",
      "\n",
      "\u001b[1m> Finished chain.\u001b[0m\n"
     ]
    }
   ],
   "source": [
    "response = agent.run(\"How old is Katy perry? output as json formatted dict with name of celebrity and age as fields\")"
   ]
  },
  {
   "cell_type": "code",
   "execution_count": 14,
   "metadata": {},
   "outputs": [
    {
     "name": "stdout",
     "output_type": "stream",
     "text": [
      "{'name': 'Katy Perry', 'age': 39}\n"
     ]
    }
   ],
   "source": [
    "import json\n",
    "dict_example = json.loads(response)\n",
    "print(dict_example)"
   ]
  },
  {
   "cell_type": "markdown",
   "metadata": {},
   "source": [
    "Forcing structure with tagging"
   ]
  },
  {
   "cell_type": "code",
   "execution_count": 15,
   "metadata": {},
   "outputs": [],
   "source": [
    "from langchain.chat_models import ChatOpenAI\n",
    "from langchain.chains import create_tagging_chain"
   ]
  },
  {
   "cell_type": "code",
   "execution_count": 16,
   "metadata": {},
   "outputs": [],
   "source": [
    "# Schema\n",
    "schema = {\n",
    "    \"properties\": {\n",
    "        \"celebrity_name\": {\"type\": \"string\"},\n",
    "        \"age\": {\"type\": \"integer\"},\n",
    "    }\n",
    "}\n",
    "\n",
    "chain = create_tagging_chain(schema, llm=ChatOpenAI(model=\"gpt-3.5-turbo\"))"
   ]
  },
  {
   "cell_type": "code",
   "execution_count": 17,
   "metadata": {},
   "outputs": [
    {
     "name": "stdout",
     "output_type": "stream",
     "text": [
      "Katy Perry is 39 years old.\n"
     ]
    },
    {
     "data": {
      "text/plain": [
       "{'celebrity_name': 'Katy Perry', 'age': 39}"
      ]
     },
     "execution_count": 17,
     "metadata": {},
     "output_type": "execute_result"
    }
   ],
   "source": [
    "# reusing past response\n",
    "print(first_response)\n",
    "chain.run(first_response)"
   ]
  },
  {
   "cell_type": "code",
   "execution_count": 18,
   "metadata": {},
   "outputs": [
    {
     "data": {
      "text/plain": [
       "{'celebrity_name': 'Justin Au-Yeung', 'age': 27}"
      ]
     },
     "execution_count": 18,
     "metadata": {},
     "output_type": "execute_result"
    }
   ],
   "source": [
    "extra_response = \"Justin Au-Yeung is 27 years old\"\n",
    "chain.run(extra_response)"
   ]
  }
 ],
 "metadata": {
  "kernelspec": {
   "display_name": ".venv",
   "language": "python",
   "name": "python3"
  },
  "language_info": {
   "codemirror_mode": {
    "name": "ipython",
    "version": 3
   },
   "file_extension": ".py",
   "mimetype": "text/x-python",
   "name": "python",
   "nbconvert_exporter": "python",
   "pygments_lexer": "ipython3",
   "version": "3.10.10"
  },
  "orig_nbformat": 4
 },
 "nbformat": 4,
 "nbformat_minor": 2
}
