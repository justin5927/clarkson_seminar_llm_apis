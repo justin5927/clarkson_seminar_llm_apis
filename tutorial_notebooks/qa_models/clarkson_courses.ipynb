{
 "cells": [
  {
   "cell_type": "code",
   "execution_count": 2,
   "metadata": {},
   "outputs": [],
   "source": [
    "from langchain.document_loaders.pdf import UnstructuredPDFLoader\n",
    "pdf_filename = \"../data/clarkson_courses.pdf\"\n",
    "loader = UnstructuredPDFLoader(pdf_filename)\n",
    "full_documents = loader.load()"
   ]
  },
  {
   "cell_type": "code",
   "execution_count": 12,
   "metadata": {},
   "outputs": [],
   "source": [
    "from langchain.text_splitter import CharacterTextSplitter\n",
    "\n",
    "text_splitter = CharacterTextSplitter(chunk_size=2000, chunk_overlap=0)\n",
    "texts = text_splitter.split_documents(full_documents)"
   ]
  },
  {
   "cell_type": "code",
   "execution_count": 16,
   "metadata": {},
   "outputs": [],
   "source": [
    "from langchain.vectorstores import Chroma\n",
    "from langchain.embeddings.openai import OpenAIEmbeddings\n",
    "\n",
    "embeddings = OpenAIEmbeddings() # Defaults to ada\n",
    "docsearch = Chroma.from_documents(texts, embeddings)"
   ]
  },
  {
   "cell_type": "code",
   "execution_count": 17,
   "metadata": {},
   "outputs": [],
   "source": [
    "from langchain.chains import RetrievalQA\n",
    "from langchain.chat_models import ChatOpenAI\n",
    "\n",
    "qa = RetrievalQA.from_chain_type(llm=ChatOpenAI(model=\"gpt-3.5-turbo\"), chain_type=\"stuff\", retriever=docsearch.as_retriever())"
   ]
  },
  {
   "cell_type": "code",
   "execution_count": 20,
   "metadata": {},
   "outputs": [
    {
     "name": "stdout",
     "output_type": "stream",
     "text": [
      "Here is a list of the electrical engineering courses (EE) mentioned in the provided context:\n",
      "\n",
      "1. EE 211(3) ECE Laboratory I\n",
      "2. EE 221(3) Linear Circuits\n",
      "3. EE 262(3) Intro to Object-Oriented Programming and Software Design\n",
      "4. EE 264(3) Introduction to Digital Design\n",
      "5. EE 291(1 - 3) Special Project in Electrical and Computer Engineering\n",
      "6. EE 365(3) Advanced Digital Circuit Design\n",
      "7. EE 368(3) Software Engineering\n",
      "8. EE 381(3) Electromagnetic Fields and Waves\n",
      "9. EE 644(3) Solid State Electronics (formerly EER 574)\n",
      "\n",
      "Please note that this list may not be exhaustive, as it only includes the courses mentioned in the provided context.\n"
     ]
    }
   ],
   "source": [
    "response = qa.run(\"Please list all of the electrical engineering course (EE)?\")\n",
    "print(response)"
   ]
  },
  {
   "cell_type": "code",
   "execution_count": 22,
   "metadata": {},
   "outputs": [
    {
     "name": "stdout",
     "output_type": "stream",
     "text": [
      "EE 644(3) Solid State Electronics is a course that focuses on the physics and technology of semiconductor electronic devices and their dynamic behavior. The course emphasizes the understanding of device operation and limitations through energy band diagrams, electron carrier statistics and transport, charge control equations, and equivalent circuit models. The course covers various semiconductor devices used in high-power and high-frequency applications, such as power electronic switching elements and microwave power amplifiers. It also discusses topics like reduction of parasitic electrical losses, high band-gap semiconductor material development, and thermal management.\n"
     ]
    }
   ],
   "source": [
    "response = qa.run(\"What is the description for EE 644(3) Solid State Electronics?\")\n",
    "print(response)"
   ]
  },
  {
   "cell_type": "code",
   "execution_count": 23,
   "metadata": {},
   "outputs": [
    {
     "name": "stdout",
     "output_type": "stream",
     "text": [
      "There are multiple senior design courses in the Electrical Engineering program at Clarkson University. Here are the descriptions of two of them:\n",
      "\n",
      "1. EE 412(3) Senior Design: This course involves a series of one or more design projects. Students will work on planning, analysis, preliminary design, simulation, construction, testing and evaluation, documentation, class demonstrations, and oral presentations. The main focus of this course is to provide students with an opportunity to develop complete solutions to design problems and to develop broad engineering skills, including communication skills. Prerequisite: EE311.\n",
      "\n",
      "2. CE 490(3) Civil Engineering Senior Design: This course involves teams of students working on a comprehensive design project related to core areas of civil engineering design and construction management. The design will be based on knowledge acquired in prior courses, professional ethics, and engineering economics. Students will be required to write reports and make oral presentations about their design to faculty, potential guests, and student peers. Prerequisites: Senior standing, CE310, and either CE441 or CE442 (or consent of the instructor).\n"
     ]
    }
   ],
   "source": [
    "response = qa.run(\"What is the description EE senior design?\")\n",
    "print(response)"
   ]
  },
  {
   "cell_type": "code",
   "execution_count": null,
   "metadata": {},
   "outputs": [],
   "source": []
  }
 ],
 "metadata": {
  "kernelspec": {
   "display_name": ".venv",
   "language": "python",
   "name": "python3"
  },
  "language_info": {
   "codemirror_mode": {
    "name": "ipython",
    "version": 3
   },
   "file_extension": ".py",
   "mimetype": "text/x-python",
   "name": "python",
   "nbconvert_exporter": "python",
   "pygments_lexer": "ipython3",
   "version": "3.10.10"
  },
  "orig_nbformat": 4
 },
 "nbformat": 4,
 "nbformat_minor": 2
}
